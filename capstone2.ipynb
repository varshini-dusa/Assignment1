{
 "cells": [
  {
   "cell_type": "markdown",
   "metadata": {
    "collapsed": true
   },
   "source": [
    "# Capstone Project- Week 1"
   ]
  },
  {
   "cell_type": "markdown",
   "metadata": {},
   "source": [
    "## Introduction/Business Problem"
   ]
  },
  {
   "cell_type": "markdown",
   "metadata": {},
   "source": [
    "##### In this project, we will try to find an optimal location for an Italian restuarant in Berlin, Germany.\n",
    "##### We will detect locations which are not already crowded with restuarants and no Italian restaurants in its vicinity.\n",
    "##### They should also be close to the city centre."
   ]
  },
  {
   "cell_type": "markdown",
   "metadata": {},
   "source": [
    "## Data"
   ]
  },
  {
   "cell_type": "markdown",
   "metadata": {},
   "source": [
    "#### Based on definition of our problem, factors that will influence our decision are:\n",
    "\n",
    "#### number of existing restaurants in the neighborhood (any type of restaurant)\n",
    "#### number of and distance to Italian restaurants in the neighborhood, if any\n",
    "#### distance of neighborhood from city center\n",
    "#### We decided to use regularly spaced grid of locations, centered around city center, to define our neighborhoods.\n",
    "\n",
    "#### Following data sources will be needed to extract/generate the required information:\n",
    "\n",
    "#### centers of candidate areas will be generated algorithmically and approximate addresses of centers of those areas will be obtained using Google \n",
    "#### Maps API reverse geocoding\n",
    "#### number of restaurants and their type and location in every neighborhood will be obtained using Foursquare API\n",
    "#### coordinate of Berlin center will be obtained using Google Maps API geocoding of well known Berlin location (Alexanderplatz)"
   ]
  },
  {
   "cell_type": "code",
   "execution_count": null,
   "metadata": {},
   "outputs": [],
   "source": []
  }
 ],
 "metadata": {
  "kernelspec": {
   "display_name": "Python 3.6",
   "language": "python",
   "name": "python3"
  },
  "language_info": {
   "codemirror_mode": {
    "name": "ipython",
    "version": 3
   },
   "file_extension": ".py",
   "mimetype": "text/x-python",
   "name": "python",
   "nbconvert_exporter": "python",
   "pygments_lexer": "ipython3",
   "version": "3.6.9"
  }
 },
 "nbformat": 4,
 "nbformat_minor": 1
}
